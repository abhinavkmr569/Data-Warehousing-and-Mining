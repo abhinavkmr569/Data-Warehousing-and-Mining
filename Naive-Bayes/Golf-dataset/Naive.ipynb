{
  "nbformat": 4,
  "nbformat_minor": 0,
  "metadata": {
    "colab": {
      "name": "Naive.ipynb",
      "provenance": []
    },
    "kernelspec": {
      "name": "python3",
      "display_name": "Python 3"
    }
  },
  "cells": [
    {
      "cell_type": "code",
      "metadata": {
        "id": "XbR_rEDCjbPK",
        "colab_type": "code",
        "colab": {}
      },
      "source": [
        "from tabulate import tabulate\n",
        "import pandas as pd"
      ],
      "execution_count": 1,
      "outputs": []
    },
    {
      "cell_type": "code",
      "metadata": {
        "id": "K4YYwL1ljkJN",
        "colab_type": "code",
        "colab": {}
      },
      "source": [
        "df = pd.read_csv(\"golf.csv\")"
      ],
      "execution_count": 2,
      "outputs": []
    },
    {
      "cell_type": "code",
      "metadata": {
        "id": "DttElWeFjlf-",
        "colab_type": "code",
        "colab": {
          "base_uri": "https://localhost:8080/",
          "height": 462
        },
        "outputId": "1038d542-d45b-4770-f3c0-2a1a2624687f"
      },
      "source": [
        "df.drop([\"day\"], axis=1)"
      ],
      "execution_count": 3,
      "outputs": [
        {
          "output_type": "execute_result",
          "data": {
            "text/html": [
              "<div>\n",
              "<style scoped>\n",
              "    .dataframe tbody tr th:only-of-type {\n",
              "        vertical-align: middle;\n",
              "    }\n",
              "\n",
              "    .dataframe tbody tr th {\n",
              "        vertical-align: top;\n",
              "    }\n",
              "\n",
              "    .dataframe thead th {\n",
              "        text-align: right;\n",
              "    }\n",
              "</style>\n",
              "<table border=\"1\" class=\"dataframe\">\n",
              "  <thead>\n",
              "    <tr style=\"text-align: right;\">\n",
              "      <th></th>\n",
              "      <th>outlook</th>\n",
              "      <th>humidity</th>\n",
              "      <th>wind</th>\n",
              "      <th>play</th>\n",
              "    </tr>\n",
              "  </thead>\n",
              "  <tbody>\n",
              "    <tr>\n",
              "      <th>0</th>\n",
              "      <td>sunny</td>\n",
              "      <td>high</td>\n",
              "      <td>weak</td>\n",
              "      <td>no</td>\n",
              "    </tr>\n",
              "    <tr>\n",
              "      <th>1</th>\n",
              "      <td>sunny</td>\n",
              "      <td>high</td>\n",
              "      <td>strong</td>\n",
              "      <td>no</td>\n",
              "    </tr>\n",
              "    <tr>\n",
              "      <th>2</th>\n",
              "      <td>overcast</td>\n",
              "      <td>high</td>\n",
              "      <td>weak</td>\n",
              "      <td>yes</td>\n",
              "    </tr>\n",
              "    <tr>\n",
              "      <th>3</th>\n",
              "      <td>rain</td>\n",
              "      <td>high</td>\n",
              "      <td>weak</td>\n",
              "      <td>yes</td>\n",
              "    </tr>\n",
              "    <tr>\n",
              "      <th>4</th>\n",
              "      <td>rain</td>\n",
              "      <td>normal</td>\n",
              "      <td>weak</td>\n",
              "      <td>yes</td>\n",
              "    </tr>\n",
              "    <tr>\n",
              "      <th>5</th>\n",
              "      <td>rain</td>\n",
              "      <td>normal</td>\n",
              "      <td>strong</td>\n",
              "      <td>no</td>\n",
              "    </tr>\n",
              "    <tr>\n",
              "      <th>6</th>\n",
              "      <td>overcast</td>\n",
              "      <td>normal</td>\n",
              "      <td>strong</td>\n",
              "      <td>yes</td>\n",
              "    </tr>\n",
              "    <tr>\n",
              "      <th>7</th>\n",
              "      <td>sunny</td>\n",
              "      <td>high</td>\n",
              "      <td>weak</td>\n",
              "      <td>no</td>\n",
              "    </tr>\n",
              "    <tr>\n",
              "      <th>8</th>\n",
              "      <td>sunny</td>\n",
              "      <td>normal</td>\n",
              "      <td>weak</td>\n",
              "      <td>yes</td>\n",
              "    </tr>\n",
              "    <tr>\n",
              "      <th>9</th>\n",
              "      <td>rain</td>\n",
              "      <td>normal</td>\n",
              "      <td>weak</td>\n",
              "      <td>yes</td>\n",
              "    </tr>\n",
              "    <tr>\n",
              "      <th>10</th>\n",
              "      <td>sunny</td>\n",
              "      <td>normal</td>\n",
              "      <td>strong</td>\n",
              "      <td>yes</td>\n",
              "    </tr>\n",
              "    <tr>\n",
              "      <th>11</th>\n",
              "      <td>overcast</td>\n",
              "      <td>high</td>\n",
              "      <td>strong</td>\n",
              "      <td>yes</td>\n",
              "    </tr>\n",
              "    <tr>\n",
              "      <th>12</th>\n",
              "      <td>overcast</td>\n",
              "      <td>normal</td>\n",
              "      <td>weak</td>\n",
              "      <td>yes</td>\n",
              "    </tr>\n",
              "    <tr>\n",
              "      <th>13</th>\n",
              "      <td>rain</td>\n",
              "      <td>high</td>\n",
              "      <td>strong</td>\n",
              "      <td>no</td>\n",
              "    </tr>\n",
              "  </tbody>\n",
              "</table>\n",
              "</div>"
            ],
            "text/plain": [
              "     outlook humidity    wind play\n",
              "0      sunny     high    weak   no\n",
              "1      sunny     high  strong   no\n",
              "2   overcast     high    weak  yes\n",
              "3       rain     high    weak  yes\n",
              "4       rain   normal    weak  yes\n",
              "5       rain   normal  strong   no\n",
              "6   overcast   normal  strong  yes\n",
              "7      sunny     high    weak   no\n",
              "8      sunny   normal    weak  yes\n",
              "9       rain   normal    weak  yes\n",
              "10     sunny   normal  strong  yes\n",
              "11  overcast     high  strong  yes\n",
              "12  overcast   normal    weak  yes\n",
              "13      rain     high  strong   no"
            ]
          },
          "metadata": {
            "tags": []
          },
          "execution_count": 3
        }
      ]
    },
    {
      "cell_type": "code",
      "metadata": {
        "id": "lZ1IuMRwjn25",
        "colab_type": "code",
        "colab": {
          "base_uri": "https://localhost:8080/",
          "height": 134
        },
        "outputId": "62ae92ba-3463-431c-f759-9048e6d99d5a"
      },
      "source": [
        "df['play'].groupby(df['outlook']).value_counts(sort=True)"
      ],
      "execution_count": 4,
      "outputs": [
        {
          "output_type": "execute_result",
          "data": {
            "text/plain": [
              "outlook   play\n",
              "overcast  yes     4\n",
              "rain      yes     3\n",
              "          no      2\n",
              "sunny     no      3\n",
              "          yes     2\n",
              "Name: play, dtype: int64"
            ]
          },
          "metadata": {
            "tags": []
          },
          "execution_count": 4
        }
      ]
    },
    {
      "cell_type": "code",
      "metadata": {
        "id": "cyCn9htsjoWm",
        "colab_type": "code",
        "colab": {
          "base_uri": "https://localhost:8080/",
          "height": 118
        },
        "outputId": "3c2085f8-60c7-45c9-ad7e-bbc91ef15e59"
      },
      "source": [
        "df['play'].groupby(df['humidity']).value_counts(sort=True)"
      ],
      "execution_count": 5,
      "outputs": [
        {
          "output_type": "execute_result",
          "data": {
            "text/plain": [
              "humidity  play\n",
              "high      no      4\n",
              "          yes     3\n",
              "normal    yes     6\n",
              "          no      1\n",
              "Name: play, dtype: int64"
            ]
          },
          "metadata": {
            "tags": []
          },
          "execution_count": 5
        }
      ]
    },
    {
      "cell_type": "code",
      "metadata": {
        "id": "DLwr0SsPjpoD",
        "colab_type": "code",
        "colab": {
          "base_uri": "https://localhost:8080/",
          "height": 118
        },
        "outputId": "a410fdfd-77c7-4fc6-fcee-a8f291bd19d4"
      },
      "source": [
        "df['play'].groupby(df['wind']).value_counts(sort=True)"
      ],
      "execution_count": 6,
      "outputs": [
        {
          "output_type": "execute_result",
          "data": {
            "text/plain": [
              "wind    play\n",
              "strong  no      3\n",
              "        yes     3\n",
              "weak    yes     6\n",
              "        no      2\n",
              "Name: play, dtype: int64"
            ]
          },
          "metadata": {
            "tags": []
          },
          "execution_count": 6
        }
      ]
    },
    {
      "cell_type": "code",
      "metadata": {
        "id": "lnPZAYTejsrC",
        "colab_type": "code",
        "colab": {}
      },
      "source": [
        "a = df['play'].groupby(df['outlook']).value_counts(sort=True)\n",
        "b = df['play'].groupby(df['humidity']).value_counts(sort=True)\n",
        "c = df['play'].groupby(df['wind']).value_counts(sort=True)\n",
        "d = df[\"play\"].value_counts(sort = True)"
      ],
      "execution_count": 7,
      "outputs": []
    },
    {
      "cell_type": "code",
      "metadata": {
        "id": "M2W1PT78juQl",
        "colab_type": "code",
        "colab": {}
      },
      "source": [
        "outlook_yes_no = dict(a)\n",
        "\n",
        "humidity_yes_no = dict(b)\n",
        "\n",
        "wind_yes_no = dict(c)\n",
        "\n",
        "play_yes_no = dict(d)"
      ],
      "execution_count": 8,
      "outputs": []
    },
    {
      "cell_type": "code",
      "metadata": {
        "id": "4B_C0gawjvzu",
        "colab_type": "code",
        "colab": {
          "base_uri": "https://localhost:8080/",
          "height": 185
        },
        "outputId": "8aa0d0b6-7cd5-4c0c-f301-814fa10a7133"
      },
      "source": [
        "outlook_yes_no[(\"overcast\", \"no\")] = 0\n",
        "\n",
        "\n",
        "headers = ['Outlook', 'Play', 'Count']\n",
        "data = sorted([(k[0],k[-1],v) for k,v in outlook_yes_no.items()])\n",
        "print(tabulate(data, headers=headers, tablefmt=\"psql\"))"
      ],
      "execution_count": 9,
      "outputs": [
        {
          "output_type": "stream",
          "text": [
            "+-----------+--------+---------+\n",
            "| Outlook   | Play   |   Count |\n",
            "|-----------+--------+---------|\n",
            "| overcast  | no     |       0 |\n",
            "| overcast  | yes    |       4 |\n",
            "| rain      | no     |       2 |\n",
            "| rain      | yes    |       3 |\n",
            "| sunny     | no     |       3 |\n",
            "| sunny     | yes    |       2 |\n",
            "+-----------+--------+---------+\n"
          ],
          "name": "stdout"
        }
      ]
    },
    {
      "cell_type": "code",
      "metadata": {
        "id": "JhH15dJIjxcy",
        "colab_type": "code",
        "colab": {
          "base_uri": "https://localhost:8080/",
          "height": 151
        },
        "outputId": "69eeb735-43f1-4c2a-ca58-48ce3516d48c"
      },
      "source": [
        "headers = ['Humidity', 'Play', 'Count']\n",
        "data = sorted([(k[0],k[1],v) for k,v in humidity_yes_no.items()])\n",
        "print(tabulate(data, headers=headers, tablefmt=\"psql\"))"
      ],
      "execution_count": 10,
      "outputs": [
        {
          "output_type": "stream",
          "text": [
            "+------------+--------+---------+\n",
            "| Humidity   | Play   |   Count |\n",
            "|------------+--------+---------|\n",
            "| high       | no     |       4 |\n",
            "| high       | yes    |       3 |\n",
            "| normal     | no     |       1 |\n",
            "| normal     | yes    |       6 |\n",
            "+------------+--------+---------+\n"
          ],
          "name": "stdout"
        }
      ]
    },
    {
      "cell_type": "code",
      "metadata": {
        "id": "W2OQnST2jywf",
        "colab_type": "code",
        "colab": {
          "base_uri": "https://localhost:8080/",
          "height": 151
        },
        "outputId": "3844a059-5643-4c3e-8063-9092beba3bc8"
      },
      "source": [
        "headers = ['Wind', 'Play','Count']\n",
        "data = sorted([(k[0],k[1],v) for k,v in wind_yes_no.items()])\n",
        "print(tabulate(data, headers=headers, tablefmt=\"psql\"))"
      ],
      "execution_count": 11,
      "outputs": [
        {
          "output_type": "stream",
          "text": [
            "+--------+--------+---------+\n",
            "| Wind   | Play   |   Count |\n",
            "|--------+--------+---------|\n",
            "| strong | no     |       3 |\n",
            "| strong | yes    |       3 |\n",
            "| weak   | no     |       2 |\n",
            "| weak   | yes    |       6 |\n",
            "+--------+--------+---------+\n"
          ],
          "name": "stdout"
        }
      ]
    },
    {
      "cell_type": "code",
      "metadata": {
        "id": "FOGRNNkNj0Df",
        "colab_type": "code",
        "colab": {
          "base_uri": "https://localhost:8080/",
          "height": 118
        },
        "outputId": "ec105bb2-48b4-489c-80fe-ada7d3b52313"
      },
      "source": [
        "headers = ['Yes/No', 'Count']\n",
        "data = sorted([(k,v) for k,v in play_yes_no.items()])\n",
        "print(tabulate(data, headers=headers, tablefmt=\"psql\"))"
      ],
      "execution_count": 12,
      "outputs": [
        {
          "output_type": "stream",
          "text": [
            "+----------+---------+\n",
            "| Yes/No   |   Count |\n",
            "|----------+---------|\n",
            "| no       |       5 |\n",
            "| yes      |       9 |\n",
            "+----------+---------+\n"
          ],
          "name": "stdout"
        }
      ]
    },
    {
      "cell_type": "code",
      "metadata": {
        "id": "jtHS2JCgj1cH",
        "colab_type": "code",
        "colab": {
          "base_uri": "https://localhost:8080/",
          "height": 67
        },
        "outputId": "6e057be4-1f3f-45b7-e386-a333bd4c341d"
      },
      "source": [
        "out = input(\"Enter Outlook (overcast, rain, sunny): \")\n",
        "out = out.lower()\n",
        "hum = input(\"Enter Humidity (high, normal): \")\n",
        "hum = hum.lower()\n",
        "win = input(\"Enter Wind (strong, weak): \")\n",
        "win = win.lower()"
      ],
      "execution_count": 13,
      "outputs": [
        {
          "output_type": "stream",
          "text": [
            "Enter Outlook (overcast, rain, sunny): rain\n",
            "Enter Humidity (high, normal): high\n",
            "Enter Wind (strong, weak): weak\n"
          ],
          "name": "stdout"
        }
      ]
    },
    {
      "cell_type": "code",
      "metadata": {
        "id": "4IiZFC32j-Vn",
        "colab_type": "code",
        "colab": {}
      },
      "source": [
        "x = (out, 'yes')\n",
        "y = (out, 'no')\n",
        "\n",
        "i = (hum, 'yes')\n",
        "p = (hum, 'no')\n",
        "\n",
        "j = (win, 'yes')\n",
        "h = (win, 'no')"
      ],
      "execution_count": 18,
      "outputs": []
    },
    {
      "cell_type": "code",
      "metadata": {
        "id": "_cTiSxmAkBdr",
        "colab_type": "code",
        "colab": {}
      },
      "source": [
        "yes = (outlook_yes_no[x]/play_yes_no[\"yes\"])*(humidity_yes_no[i]/play_yes_no[\"yes\"])*(wind_yes_no[j]/play_yes_no[\"yes\"])*(play_yes_no[\"yes\"]/14)\n",
        "\n",
        "no = (outlook_yes_no[y]/play_yes_no[\"no\"])*(humidity_yes_no[p]/play_yes_no[\"no\"])*(wind_yes_no[h]/play_yes_no[\"no\"])*(play_yes_no[\"no\"]/14)"
      ],
      "execution_count": 19,
      "outputs": []
    },
    {
      "cell_type": "code",
      "metadata": {
        "id": "ipijQwvLkE5_",
        "colab_type": "code",
        "colab": {
          "base_uri": "https://localhost:8080/",
          "height": 34
        },
        "outputId": "5e5a86ee-44ac-4cd4-adbb-2e80eff11363"
      },
      "source": [
        "yes"
      ],
      "execution_count": 20,
      "outputs": [
        {
          "output_type": "execute_result",
          "data": {
            "text/plain": [
              "0.04761904761904762"
            ]
          },
          "metadata": {
            "tags": []
          },
          "execution_count": 20
        }
      ]
    },
    {
      "cell_type": "code",
      "metadata": {
        "id": "_glKbNqVkGr7",
        "colab_type": "code",
        "colab": {
          "base_uri": "https://localhost:8080/",
          "height": 34
        },
        "outputId": "8a7d6aa7-19b0-4832-8fc8-05e81eea9e0f"
      },
      "source": [
        "no"
      ],
      "execution_count": 21,
      "outputs": [
        {
          "output_type": "execute_result",
          "data": {
            "text/plain": [
              "0.04571428571428573"
            ]
          },
          "metadata": {
            "tags": []
          },
          "execution_count": 21
        }
      ]
    },
    {
      "cell_type": "code",
      "metadata": {
        "id": "6t0bjyQrkHXs",
        "colab_type": "code",
        "colab": {
          "base_uri": "https://localhost:8080/",
          "height": 134
        },
        "outputId": "abfc4c96-f779-4361-b2c3-0a4b89404ab1"
      },
      "source": [
        "if (yes>no):\n",
        "  print(\"Likelihood of \\'Yes\\' for Weather Forecast => {}, {}, {} -> {}\".format(out,hum,win,yes))\n",
        "  print(\"Likelihood of \\'No\\' for Weather Forecast => {}, {}, {} -> {}\".format(out,hum,win,no))\n",
        "  print(\"\\nProbability of YES for Weather Forecast => {}, {}, {} -> {}\".format(out,hum,win,(yes/(yes+no))))\n",
        "  print(\"Probability of NO for Weather Forecast => {}, {}, {} -> {}\".format(out,hum,win,(no/(yes+no))))\n",
        "  print(\"\\nPredicted Play => Yes with a {} % chance\".format((yes/(yes+no))*100))\n",
        "\n",
        "else:\n",
        "  print(\"Likelihood of \\'Yes\\' for Weather Forecast => {}, {}, {} -> {}\".format(out,hum,win,yes))\n",
        "  print(\"Likelihood of \\'No\\' for Weather Forecast => {}, {}, {} -> {}\".format(out,hum,win,no))\n",
        "  print(\"\\nProbability of YES for Weather Forecast => {}, {}, {} -> {}\".format(out,hum,win,(yes/(yes+no)*100)))\n",
        "  print(\"Probability of NO for Weather Forecast => {}, {}, {} -> {}\".format(out,hum,win,(no/(yes+no)*100)))\n",
        "  print(\"\\nPredicted Play => No with a {} % chance\".format((yes/(yes+no))*100))"
      ],
      "execution_count": 22,
      "outputs": [
        {
          "output_type": "stream",
          "text": [
            "Likelihood of 'Yes' for Weather Forecast => rain, high, weak -> 0.04761904761904762\n",
            "Likelihood of 'No' for Weather Forecast => rain, high, weak -> 0.04571428571428573\n",
            "\n",
            "Probability of YES for Weather Forecast => rain, high, weak -> 0.510204081632653\n",
            "Probability of NO for Weather Forecast => rain, high, weak -> 0.489795918367347\n",
            "\n",
            "Predicted Play => Yes with a 51.020408163265294 % chance\n"
          ],
          "name": "stdout"
        }
      ]
    },
    {
      "cell_type": "code",
      "metadata": {
        "id": "o7v6M3V7k78f",
        "colab_type": "code",
        "colab": {}
      },
      "source": [
        ""
      ],
      "execution_count": 22,
      "outputs": []
    }
  ]
}