{
  "nbformat": 4,
  "nbformat_minor": 0,
  "metadata": {
    "colab": {
      "name": "KNN_binary_classification.ipynb",
      "provenance": [],
      "authorship_tag": "ABX9TyNEINvszQ5p8avSpJn+NR8W",
      "include_colab_link": true
    },
    "kernelspec": {
      "name": "python3",
      "display_name": "Python 3"
    }
  },
  "cells": [
    {
      "cell_type": "markdown",
      "metadata": {
        "id": "view-in-github",
        "colab_type": "text"
      },
      "source": [
        "<a href=\"https://colab.research.google.com/github/abhinavkmr569/Data-Warehousing-and-Mining/blob/master/KNN_binary_classification.ipynb\" target=\"_parent\"><img src=\"https://colab.research.google.com/assets/colab-badge.svg\" alt=\"Open In Colab\"/></a>"
      ]
    },
    {
      "cell_type": "markdown",
      "metadata": {
        "id": "IJ6Ss5RYIidj",
        "colab_type": "text"
      },
      "source": [
        "---\n",
        "Binary KNN Classification using Euclidean Distance:\n",
        "==="
      ]
    },
    {
      "cell_type": "markdown",
      "metadata": {
        "id": "YlgYrO_jIdnM",
        "colab_type": "text"
      },
      "source": [
        "---\n",
        "Importing Libraries\n",
        "==="
      ]
    },
    {
      "cell_type": "code",
      "metadata": {
        "id": "ax4mQTR0IFQs",
        "colab_type": "code",
        "colab": {}
      },
      "source": [
        "import pandas as pd\n",
        "import numpy as np\n",
        "from tabulate import tabulate"
      ],
      "execution_count": 18,
      "outputs": []
    },
    {
      "cell_type": "markdown",
      "metadata": {
        "id": "hUj6iSfIIWpR",
        "colab_type": "text"
      },
      "source": [
        "---\n",
        "Taking Input:\n",
        "==="
      ]
    },
    {
      "cell_type": "code",
      "metadata": {
        "id": "LBibMyyrIMv3",
        "colab_type": "code",
        "colab": {
          "base_uri": "https://localhost:8080/",
          "height": 504
        },
        "outputId": "97859937-43f5-4433-90d2-0a10ddb4d780"
      },
      "source": [
        "n = int(input(\"Enter number of data to be entered (number of rows): \"))\n",
        "\n",
        "l = []\n",
        "\n",
        "for i in range(n):\n",
        "    print(\"\")\n",
        "    print(\"Enter values for Row number: {}\".format(i+1))\n",
        "    l.append(int(input(\"Enter P1: \")))\n",
        "    l.append(int(input(\"Enter P2: \")))\n",
        "    a = (input(\"Enter Class (T/F): \"))\n",
        "    l.append(a.upper())\n",
        "\n",
        "l = np.array(l)\n",
        "\n",
        "l = l.reshape((n,3))\n",
        "\n",
        "\n",
        "df = pd.DataFrame(data=l, columns=[\"P1\", \"P2\",\"Class\"])\n",
        "print(tabulate(df, headers = [\"Index\",\"P1\",\"P2\",\"Class\",\"Distance\"], tablefmt=\"psql\"))"
      ],
      "execution_count": 20,
      "outputs": [
        {
          "output_type": "stream",
          "text": [
            "Enter number of data to be entered (number of rows): 4\n",
            "\n",
            "Enter values for Row number: 1\n",
            "Enter P1: 7\n",
            "Enter P2: 7\n",
            "Enter Class (T/F): f\n",
            "\n",
            "Enter values for Row number: 2\n",
            "Enter P1: 7\n",
            "Enter P2: 4\n",
            "Enter Class (T/F): f\n",
            "\n",
            "Enter values for Row number: 3\n",
            "Enter P1: 3\n",
            "Enter P2: 4\n",
            "Enter Class (T/F): t\n",
            "\n",
            "Enter values for Row number: 4\n",
            "Enter P1: 1\n",
            "Enter P2: 4\n",
            "Enter Class (T/F): t\n",
            "+---------+------+------+---------+\n",
            "|   Index |   P1 |   P2 | Class   |\n",
            "|---------+------+------+---------|\n",
            "|       0 |    7 |    7 | F       |\n",
            "|       1 |    7 |    4 | F       |\n",
            "|       2 |    3 |    4 | T       |\n",
            "|       3 |    1 |    4 | T       |\n",
            "+---------+------+------+---------+\n"
          ],
          "name": "stdout"
        }
      ]
    },
    {
      "cell_type": "markdown",
      "metadata": {
        "id": "BiTawzc-IoJd",
        "colab_type": "text"
      },
      "source": [
        "---\n",
        "Calculations:\n",
        "==="
      ]
    },
    {
      "cell_type": "code",
      "metadata": {
        "id": "Zj0Eqgx1ISyI",
        "colab_type": "code",
        "colab": {
          "base_uri": "https://localhost:8080/",
          "height": 286
        },
        "outputId": "30bbcb1e-779b-471a-dc17-eda8b5230a50"
      },
      "source": [
        "p1 = int(input(\"Enter value for P1 for prediction: \")) \n",
        "p2 = int(input(\"Enter value for P2 for prediction: \")) \n",
        "k = int(input(\"Enter value for \\\"k\\\": \"))\n",
        "\n",
        "d = []  # d ka length = number of rows in l\n",
        "\n",
        "for i in range(n):\n",
        "    a = pow((p1-int(df[\"P1\"][i])),2)\n",
        "    b = pow((p2-int(df['P2'][i])),2)\n",
        "    o = pow(a+b,0.5)\n",
        "    d.append(o)\n",
        "\n",
        "df[\"Distance\"] = d\n",
        "\n",
        "df1 = df.sort_values(\"Distance\")\n",
        "\n",
        "print(\"\")\n",
        "\n",
        "print(\"Ascending Order w.r.t. Distance: \")\n",
        "print(tabulate(df1, headers = [\"Index\",\"P1\",\"P2\",\"Class\",\"Distance\"], tablefmt=\"psql\"))\n",
        "\n",
        "print(\"\")\n",
        "\n",
        "df1 = df1.head(k)\n",
        "# df1 = pd.DataFrame(df1,index=[False])\n",
        "\n",
        "t = df1.Class[df1[\"Class\"]==\"T\"].count()\n",
        "f = df1.Class[df1[\"Class\"]==\"F\"].count()\n",
        "\n",
        "print(\"\")\n",
        "\n",
        "if (t>f):\n",
        "    print(\"The predicted class is: \\\"True\\\" as count of True:False = {}:{} for \\\"k\\\" = {}\".format(t,f,k))\n",
        "else:\n",
        "    print(\"The predicted class is: \\\"False\\\" as count of True:False = {}:{} for \\\"k\\\" = {}\".format(t,f,k))"
      ],
      "execution_count": 22,
      "outputs": [
        {
          "output_type": "stream",
          "text": [
            "Enter value for P1 for prediction: 3\n",
            "Enter value for P2 for prediction: 7\n",
            "Enter value for \"k\": 3\n",
            "\n",
            "Ascending Order w.r.t. Distance: \n",
            "+---------+------+------+---------+------------+\n",
            "|   Index |   P1 |   P2 | Class   |   Distance |\n",
            "|---------+------+------+---------+------------|\n",
            "|       2 |    3 |    4 | T       |    3       |\n",
            "|       3 |    1 |    4 | T       |    3.60555 |\n",
            "|       0 |    7 |    7 | F       |    4       |\n",
            "|       1 |    7 |    4 | F       |    5       |\n",
            "+---------+------+------+---------+------------+\n",
            "\n",
            "\n",
            "The predicted class is: \"True\" as count of True:False = 2:1 for \"k\" = 3\n"
          ],
          "name": "stdout"
        }
      ]
    },
    {
      "cell_type": "code",
      "metadata": {
        "id": "brX5EzVtMrw3",
        "colab_type": "code",
        "colab": {}
      },
      "source": [
        ""
      ],
      "execution_count": null,
      "outputs": []
    }
  ]
}